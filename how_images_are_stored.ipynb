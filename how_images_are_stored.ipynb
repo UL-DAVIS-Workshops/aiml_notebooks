{
 "cells": [
  {
   "cell_type": "markdown",
   "metadata": {},
   "source": [
    "## How images are stored in data formats\n",
    "\n",
    "Images, like all pieces of data, are actually just broken down into a bunch of numbers. Instead of thinking of an entire image as “one piece of data”, think about each pixel of an image representing a number between 0 and 255. The number depends on how much the pixel’s color contributes to the image. Then when you have an entire image (let’s say 120x120 pixels), you have a 120x120 matrix of data, like so:\n",
    "\n",
    "![alt text](figures/0_PSpuhUpQJHcXWaod.gif \"the number 8\")[image credit](https://medium.com/@ageitgey/machine-learning-is-fun-part-3-deep-learning-and-convolutional-neural-networks-f40359318721)\n",
    "\n",
    "This is a black and white photo. See how the super black pixels are 255, and the whitespace is all 0's?\n",
    "With colored photos, it’s the same idea, but this time you have three layers on top of each other — a red, green, and blue layer. Each pixel is still a number from 0–255. Now you have a 120x120x3 matrix:\n",
    "![alt text](figures/0_GiOCkbUpfRMqiVjx.png \"pixels of a color image\")[image credit](https://www.intechopen.com/books/applications-from-engineering-with-matlab-concepts/digital-image-processing-with-matlab)\n",
    "\n",
    "And for hot dog purposes, here are my RGB layers for a hot dog photo:\n",
    "![alt text](figures/1_-spgiFjlRC21sMYsMflm1A.png \"hotdog RGB layers\")\n",
    "\n",
    "All three photos on the right come together to create the beautiful hot dog on the left, vibrant cheesy colors and all. Also, note how I can plot each photo on a graph!\n",
    "\n"
   ]
  },
  {
   "cell_type": "code",
   "execution_count": null,
   "metadata": {},
   "outputs": [],
   "source": []
  }
 ],
 "metadata": {
  "kernelspec": {
   "display_name": "Python 3",
   "language": "python",
   "name": "python3"
  },
  "language_info": {
   "codemirror_mode": {
    "name": "ipython",
    "version": 3
   },
   "file_extension": ".py",
   "mimetype": "text/x-python",
   "name": "python",
   "nbconvert_exporter": "python",
   "pygments_lexer": "ipython3",
   "version": "3.7.6"
  }
 },
 "nbformat": 4,
 "nbformat_minor": 4
}
