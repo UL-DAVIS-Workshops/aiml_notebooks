{
 "cells": [
  {
   "cell_type": "markdown",
   "metadata": {},
   "source": [
    "# Types of Machine Learning Models\n",
    "[[1](biblio.txt)]\n",
    "* Linear regression\n",
    "\n",
    "* Logistic regression\n",
    "\n",
    "* Linear discriminant analysis\n",
    "\n",
    "* Decision trees\n",
    "\n",
    "* Naive Bayes\n",
    "\n",
    "* K-Nearest Neighbors\n",
    "\n",
    "* Learning vector quantization\n",
    "\n",
    "* Support vector machines\n",
    "\n",
    "* Bagging and random forest\n",
    "\n",
    "* Artificial Neural networks"
   ]
  },
  {
   "cell_type": "markdown",
   "metadata": {},
   "source": [
    "# Types of Neural Networks\n",
    "\n",
    "* Convolution Neural Network (CNN) - heavily used in computer vision\n",
    "* Recurrent Neural Network (RNN) - commonly used in natural language processing\n",
    "\n",
    "# What is Deep Learning?\n",
    "\n",
    "Deep learning networks are neural networks with many hidden layers of neurons. From a high level, hidden layers sit between the input and output layers. These hidden layers are where artificial neurons take in a set of weighted inputs and produce an output through an activation function. [[2](biblio.txt)]\n",
    "\n",
    "!!! TODO: add figure to illustrate deep learning from a high level"
   ]
  },
  {
   "cell_type": "markdown",
   "metadata": {},
   "source": [
    "# Using Data in Machine Learning\n",
    "Why do we need to think about the data we use in building our Machine Learning models?\n",
    "* Does our model have a sensitivity to feature scaling? - Look at normalizing the data\n",
    "* Can our data contribute to unforeseen biases?\n",
    "\n",
    "!!! TODO: Add subsection on spliting data sets for training, validation, and testing. Include why."
   ]
  },
  {
   "cell_type": "markdown",
   "metadata": {},
   "source": [
    "# Why are We Using Python?\n",
    "Python is a general purpose programming language that is currently well established in the scientific computing world. Well established libraries exist for this language lowering the barier of entry into experimenting with and using Artifical Inteligence and Machine Learning algorithms.\n",
    "\n",
    "## Why does this tutorial use Keras over other tools or libraries?\n",
    "Keras describes itself as \"Deep learning for humans.\"\n",
    "\n",
    "Keras is an API designed for human beings, not machines. Keras follows best practices for reducing cognitive load: it offers consistent & simple APIs, it minimizes the number of user actions required for common use cases, and it provides clear & actionable error messages. It also has extensive documentation and developer guides.\n",
    "\n",
    "There are many other options available, with their own focuses. We believe that Keras is a good entry point."
   ]
  },
  {
   "cell_type": "code",
   "execution_count": null,
   "metadata": {},
   "outputs": [],
   "source": []
  }
 ],
 "metadata": {
  "kernelspec": {
   "display_name": "Python 3",
   "language": "python",
   "name": "python3"
  },
  "language_info": {
   "codemirror_mode": {
    "name": "ipython",
    "version": 3
   },
   "file_extension": ".py",
   "mimetype": "text/x-python",
   "name": "python",
   "nbconvert_exporter": "python",
   "pygments_lexer": "ipython3",
   "version": "3.7.6"
  }
 },
 "nbformat": 4,
 "nbformat_minor": 2
}
