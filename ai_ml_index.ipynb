{
 "cells": [
  {
   "cell_type": "markdown",
   "metadata": {},
   "source": [
    "# Types of Machine Learning Models\n",
    "[[1](biblio.txt)]\n",
    "* Linear regression\n",
    "\n",
    "* Logistic regression\n",
    "\n",
    "* Linear discriminant analysis\n",
    "\n",
    "* Decision trees\n",
    "\n",
    "* Naive Bayes\n",
    "\n",
    "* K-Nearest Neighbors\n",
    "\n",
    "* Learning vector quantization\n",
    "\n",
    "* Support vector machines\n",
    "\n",
    "* Bagging and random forest\n",
    "\n",
    "* Artificial Neural networks"
   ]
  },
  {
   "cell_type": "markdown",
   "metadata": {},
   "source": [
    "# Types of Neural Networks\n",
    "\n",
    "* Convolution Neural Network (CNN) - heavily used in computer vision\n",
    "* Recurrent Neural Network (RNN) - commonly used in natural language processing\n",
    "\n",
    "# What is Deep Learning?\n",
    "\n",
    "Deep learning networks are neural networks with many hidden layers of neurons. From a high level, hidden layers sit between the input and output layers. These hidden layers are where artificial neurons take in a set of weighted inputs and produce an output through an activation function. [[2](biblio.txt)]"
   ]
  },
  {
   "cell_type": "markdown",
   "metadata": {},
   "source": [
    "# Using Data in Machine Learning\n",
    "Why do we need to think about the data we use in building our Machine Learning models?\n",
    "* Does our model have a sensitivity to feature scaling? - Look at normalizing the data\n",
    "* Can our data contribute to unforeseen biases?"
   ]
  },
  {
   "cell_type": "markdown",
   "metadata": {},
   "source": [
    "# Why are We Using Python?"
   ]
  },
  {
   "cell_type": "code",
   "execution_count": null,
   "metadata": {},
   "outputs": [],
   "source": []
  }
 ],
 "metadata": {
  "kernelspec": {
   "display_name": "Python 3",
   "language": "python",
   "name": "python3"
  },
  "language_info": {
   "codemirror_mode": {
    "name": "ipython",
    "version": 3
   },
   "file_extension": ".py",
   "mimetype": "text/x-python",
   "name": "python",
   "nbconvert_exporter": "python",
   "pygments_lexer": "ipython3",
   "version": "3.7.6"
  }
 },
 "nbformat": 4,
 "nbformat_minor": 2
}
